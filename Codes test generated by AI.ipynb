{
  "metadata": {
    "kernelspec": {
      "name": "python",
      "display_name": "Python (Pyodide)",
      "language": "python"
    },
    "language_info": {
      "codemirror_mode": {
        "name": "python",
        "version": 3
      },
      "file_extension": ".py",
      "mimetype": "text/x-python",
      "name": "python",
      "nbconvert_exporter": "python",
      "pygments_lexer": "ipython3",
      "version": "3.8"
    }
  },
  "nbformat_minor": 4,
  "nbformat": 4,
  "cells": [
    {
      "cell_type": "markdown",
      "source": "<p style=\"text-align:center\">\n    <a href=\"https://skills.network\" target=\"_blank\">\n    <img src=\"https://cf-courses-data.s3.us.cloud-object-storage.appdomain.cloud/assets/logos/SN_web_lightmode.png\" width=\"300\" alt=\"Skills Network Logo\">\n    </a>\n</p>\n",
      "metadata": {}
    },
    {
      "cell_type": "markdown",
      "source": "# Test Environment for Generative AI classroom labs\n\nThis lab provides a test environment for the codes generated using the Generative AI classroom.\n\nFollow the instructions below to set up this environment for further use.\n",
      "metadata": {}
    },
    {
      "cell_type": "markdown",
      "source": "# Setup\n",
      "metadata": {}
    },
    {
      "cell_type": "markdown",
      "source": "### Install required libraries\n\nIn case of a requirement of installing certain python libraries for use in your task, you may do so as shown below.\n",
      "metadata": {}
    },
    {
      "cell_type": "code",
      "source": "%pip install seaborn\nimport piplite\n\nawait piplite.install(['nbformat', 'plotly'])",
      "metadata": {
        "trusted": true
      },
      "outputs": [],
      "execution_count": 1
    },
    {
      "cell_type": "markdown",
      "source": "### Dataset URL from the GenAI lab\nUse the URL provided in the GenAI lab in the cell below. \n",
      "metadata": {}
    },
    {
      "cell_type": "code",
      "source": "URL = \"https://cf-courses-data.s3.us.cloud-object-storage.appdomain.cloud/IBMDeveloperSkillsNetwork-DA0101EN-Coursera/laptop_pricing_dataset_mod1.csv\"",
      "metadata": {
        "trusted": true
      },
      "outputs": [],
      "execution_count": 2
    },
    {
      "cell_type": "markdown",
      "source": "### Downloading the dataset\n\nExecute the following code to download the dataset in to the interface.\n\n> Please note that this step is essential in JupyterLite. If you are using a downloaded version of this notebook and running it on JupyterLabs, then you can skip this step and directly use the URL in pandas.read_csv() function to read the dataset as a dataframe\n",
      "metadata": {}
    },
    {
      "cell_type": "code",
      "source": "from pyodide.http import pyfetch\n\nasync def download(url, filename):\n    response = await pyfetch(url)\n    if response.status == 200:\n        with open(filename, \"wb\") as f:\n            f.write(await response.bytes())\n\npath = URL\n\nawait download(path, \"dataset.csv\")",
      "metadata": {
        "trusted": true
      },
      "outputs": [],
      "execution_count": 3
    },
    {
      "cell_type": "markdown",
      "source": "---\n",
      "metadata": {}
    },
    {
      "cell_type": "markdown",
      "source": "# Test Environment\n",
      "metadata": {}
    },
    {
      "cell_type": "code",
      "source": "# Keep appending the code generated to this cell, or add more cells below this to execute in parts\nimport pandas as pd\n\n# Replace 'file_path' with the actual file path where your CSV file is located\nfile_path = 'path/to/your/file.csv'\n",
      "metadata": {
        "trusted": true
      },
      "outputs": [],
      "execution_count": 6
    },
    {
      "cell_type": "code",
      "source": "\nfrom pyodide.http import open_url\n\nurl = 'dataset.csv'\ndf = pd.read_csv(open_url(url))\nprint(df.head())",
      "metadata": {
        "trusted": true
      },
      "outputs": [
        {
          "name": "stdout",
          "text": "Empty DataFrame\nColumns: [<?xml version=\"1.0\" encoding=\"UTF-8\" standalone=\"yes\"?><Error><Code>NoSuchKey</Code><Message>The specified key does not exist.</Message><Resource>/cf-courses-data/jupyterlite/latest/extensions/@jupyterlite/pyodide-kernel-extension/static/dataset.csv</Resource><RequestId>91bf2e61-098a-4444-ae87-4f6e4bbc0787</RequestId><httpStatusCode>404</httpStatusCode></Error>]\nIndex: []\n",
          "output_type": "stream"
        }
      ],
      "execution_count": 9
    },
    {
      "cell_type": "code",
      "source": "import pandas as pd\n\n# Create a sample Pandas data frame with missing values\ndata = {'A': [1, 2, None, 4],\n        'B': [5, None, 7, 8],\n        'C': [None, 10, 11, 12]}\ndf = pd.DataFrame(data)\n\n# Identify columns with missing values\ncolumns_with_missing_values = df.columns[df.isnull().any()].tolist()\n\n# Display the columns with missing values\nprint(\"Columns with missing values:\", columns_with_missing_values)\n",
      "metadata": {
        "trusted": true
      },
      "outputs": [
        {
          "name": "stdout",
          "text": "Columns with missing values: ['A', 'B', 'C']\n",
          "output_type": "stream"
        }
      ],
      "execution_count": 10
    },
    {
      "cell_type": "code",
      "source": "# Create a sample Pandas data frame with missing values\ndata = {'Screen_Size_cm': ['15', '17', '15', None, '17'],\n        'Weight_kg': [50, 60, None, 70, 80]}\ndf = pd.DataFrame(data)\n\n# Replace missing values in 'Screen_Size_cm' with the most frequent value\nmost_frequent_screen_size = df['Screen_Size_cm'].mode()[0]\ndf['Screen_Size_cm'].fillna(most_frequent_screen_size, inplace=True)\n\n# Replace missing values in 'Weight_kg' with the mean value\nmean_weight = df['Weight_kg'].mean()\ndf['Weight_kg'].fillna(mean_weight, inplace=True)\n\n# Display the updated data frame\nprint(df)",
      "metadata": {
        "trusted": true
      },
      "outputs": [
        {
          "name": "stderr",
          "text": "<ipython-input-11-b71fad085e3f>:8: FutureWarning: A value is trying to be set on a copy of a DataFrame or Series through chained assignment using an inplace method.\nThe behavior will change in pandas 3.0. This inplace method will never work because the intermediate object on which we are setting values always behaves as a copy.\n\nFor example, when doing 'df[col].method(value, inplace=True)', try using 'df.method({col: value}, inplace=True)' or df[col] = df[col].method(value) instead, to perform the operation inplace on the original object.\n\n\n  df['Screen_Size_cm'].fillna(most_frequent_screen_size, inplace=True)\n<ipython-input-11-b71fad085e3f>:12: FutureWarning: A value is trying to be set on a copy of a DataFrame or Series through chained assignment using an inplace method.\nThe behavior will change in pandas 3.0. This inplace method will never work because the intermediate object on which we are setting values always behaves as a copy.\n\nFor example, when doing 'df[col].method(value, inplace=True)', try using 'df.method({col: value}, inplace=True)' or df[col] = df[col].method(value) instead, to perform the operation inplace on the original object.\n\n\n  df['Weight_kg'].fillna(mean_weight, inplace=True)\n",
          "output_type": "stream"
        },
        {
          "name": "stdout",
          "text": "  Screen_Size_cm  Weight_kg\n0             15       50.0\n1             17       60.0\n2             15       65.0\n3             15       70.0\n4             17       80.0\n",
          "output_type": "stream"
        }
      ],
      "execution_count": 11
    },
    {
      "cell_type": "code",
      "source": "# Create a sample Pandas data frame with attributes 'Screen_Size_cm' and 'Weight_kg'\ndata = {'Screen_Size_cm': ['15', '17', '15', '16.5', '17'],\n        'Weight_kg': [50, 60, 65.5, 70, 80]}\ndf = pd.DataFrame(data)\n\n# Change data type of 'Screen_Size_cm' and 'Weight_kg' to float\ndf['Screen_Size_cm'] = df['Screen_Size_cm'].astype(float)\ndf['Weight_kg'] = df['Weight_kg'].astype(float)\n\n# Display the updated data frame with float data types\nprint(df)",
      "metadata": {
        "trusted": true
      },
      "outputs": [
        {
          "name": "stdout",
          "text": "   Screen_Size_cm  Weight_kg\n0            15.0       50.0\n1            17.0       60.0\n2            15.0       65.5\n3            16.5       70.0\n4            17.0       80.0\n",
          "output_type": "stream"
        }
      ],
      "execution_count": 12
    },
    {
      "cell_type": "code",
      "source": "# Create a sample Pandas data frame with attributes 'Screen_Size_cm' and 'Weight_kg'\ndata = {'Screen_Size_cm': [15, 17, 15, 16.5, 17],\n        'Weight_kg': [50, 60, 65.5, 70, 80]}\ndf = pd.DataFrame(data)\n\n# Convert 'Screen_Size_cm' from centimeters to inches\ndf['Screen_Size_inch'] = df['Screen_Size_cm'] * 0.393701\n\n# Modify the name of the attribute from 'Screen_Size_cm' to 'Screen_Size_inch'\ndf.drop('Screen_Size_cm', axis=1, inplace=True)\n\n# Convert 'Weight_kg' from kilograms to pounds\ndf['Weight_pounds'] = df['Weight_kg'] * 2.20462\n\n# Modify the name of the attribute from 'Weight_kg' to 'Weight_pounds'\ndf.drop('Weight_kg', axis=1, inplace=True)\n\n# Display the updated data frame with converted values and modified attribute names\nprint(df)",
      "metadata": {
        "trusted": true
      },
      "outputs": [
        {
          "name": "stdout",
          "text": "   Screen_Size_inch  Weight_pounds\n0          5.905515      110.23100\n1          6.692917      132.27720\n2          5.905515      144.40261\n3          6.496067      154.32340\n4          6.692917      176.36960\n",
          "output_type": "stream"
        }
      ],
      "execution_count": 13
    },
    {
      "cell_type": "code",
      "source": "# Create a sample Pandas data frame with the attribute 'CPU_frequency'\ndata = {'CPU_frequency': [2.4, 3.2, 2.8, 3.6, 2.6]}\ndf = pd.DataFrame(data)\n\n# Normalize 'CPU_frequency' concerning its maximum value\nmax_frequency = df['CPU_frequency'].max()\ndf['CPU_frequency'] = df['CPU_frequency'] / max_frequency\n\n# Display the updated data frame with 'CPU_frequency' normalized\nprint(df)",
      "metadata": {
        "trusted": true
      },
      "outputs": [
        {
          "name": "stdout",
          "text": "   CPU_frequency\n0       0.666667\n1       0.888889\n2       0.777778\n3       1.000000\n4       0.722222\n",
          "output_type": "stream"
        }
      ],
      "execution_count": 14
    },
    {
      "cell_type": "code",
      "source": "# Create a sample Pandas data frame with the attribute 'Screen'\ndata = {'Screen': ['LCD', 'OLED', 'LED', 'LCD', 'OLED']}\ndf = pd.DataFrame(data)\n\n# Convert 'Screen' into indicator variables and save as df1\ndf1 = pd.get_dummies(df['Screen'], prefix='Screen')\n\n# Append df1 into the original data frame df\ndf = pd.concat([df, df1], axis=1)\n\n# Drop the original 'Screen' attribute from the data frame df\ndf.drop('Screen', axis=1, inplace=True)\n\n# Display the updated data frame with indicator variables for 'Screen'\nprint(df)",
      "metadata": {
        "trusted": true
      },
      "outputs": [
        {
          "name": "stdout",
          "text": "   Screen_LCD  Screen_LED  Screen_OLED\n0        True       False        False\n1       False       False         True\n2       False        True        False\n3        True       False        False\n4       False       False         True\n",
          "output_type": "stream"
        }
      ],
      "execution_count": 15
    },
    {
      "cell_type": "code",
      "source": "# Create a sample Pandas data frame with the attribute 'Price' in USD\ndata = {'Price': [100, 150, 200, 120, 180]}\ndf = pd.DataFrame(data)\n\n# Convert 'Price' from USD to Euros (assuming 1 USD = 0.85 Euros)\ndf['Price'] = df['Price'] * 0.85\n\n# Display the updated data frame with 'Price' converted to Euros\nprint(df)",
      "metadata": {
        "trusted": true
      },
      "outputs": [
        {
          "name": "stdout",
          "text": "   Price\n0   85.0\n1  127.5\n2  170.0\n3  102.0\n4  153.0\n",
          "output_type": "stream"
        }
      ],
      "execution_count": 16
    },
    {
      "cell_type": "code",
      "source": "# Create a sample Pandas data frame with the attribute 'CPU_frequency'\ndata = {'CPU_frequency': [2.4, 3.2, 2.8, 3.6, 2.6]}\ndf = pd.DataFrame(data)\n\n# Min-max normalization for 'CPU_frequency'\ndf['CPU_frequency'] = (df['CPU_frequency'] - df['CPU_frequency'].min()) / (df['CPU_frequency'].max() - df['CPU_frequency'].min())\n\n# Display the updated data frame with 'CPU_frequency' normalized using min-max normalization\nprint(df)",
      "metadata": {
        "trusted": true
      },
      "outputs": [
        {
          "name": "stdout",
          "text": "   CPU_frequency\n0       0.000000\n1       0.666667\n2       0.333333\n3       1.000000\n4       0.166667\n",
          "output_type": "stream"
        }
      ],
      "execution_count": 17
    },
    {
      "cell_type": "markdown",
      "source": "## Authors\n",
      "metadata": {}
    },
    {
      "cell_type": "markdown",
      "source": "[Abhishek Gagneja](https://www.linkedin.com/in/abhishek-gagneja-23051987/)\n",
      "metadata": {}
    },
    {
      "cell_type": "markdown",
      "source": "## Change Log\n",
      "metadata": {}
    },
    {
      "cell_type": "markdown",
      "source": "|Date (YYYY-MM-DD)|Version|Changed By|Change Description|\n|-|-|-|-|\n|2023-12-10|0.1|Abhishek Gagneja|Initial Draft created|\n",
      "metadata": {}
    },
    {
      "cell_type": "markdown",
      "source": "Copyright © 2023 IBM Corporation. All rights reserved.\n",
      "metadata": {}
    }
  ]
}